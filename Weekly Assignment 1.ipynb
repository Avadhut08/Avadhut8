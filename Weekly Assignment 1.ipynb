{
  "nbformat": 4,
  "nbformat_minor": 0,
  "metadata": {
    "colab": {
      "provenance": []
    },
    "kernelspec": {
      "name": "python3",
      "display_name": "Python 3"
    },
    "language_info": {
      "name": "python"
    }
  },
  "cells": [
    {
      "cell_type": "code",
      "source": [
        "# Section A\n",
        "\n",
        "#Q.1 Write a Python program to print “Space”.\n",
        "\n",
        "print(\"Space\")"
      ],
      "metadata": {
        "colab": {
          "base_uri": "https://localhost:8080/"
        },
        "id": "AX0xqLeNyRe8",
        "outputId": "a36e2a90-9e12-4d55-d874-82c080cffebf"
      },
      "execution_count": 3,
      "outputs": [
        {
          "output_type": "stream",
          "name": "stdout",
          "text": [
            "Space\n"
          ]
        }
      ]
    },
    {
      "cell_type": "code",
      "source": [
        "#Q.2 Write a Python program to do arithmetical operations addition and division.\n",
        "\n",
        "a=int(input(\"enter no 1:\"))\n",
        "b=int(input(\"enter no 2:\"))\n",
        "x=a+b\n",
        "y=a/b\n",
        "print(x)\n",
        "print(y) "
      ],
      "metadata": {
        "colab": {
          "base_uri": "https://localhost:8080/"
        },
        "id": "CeBhU32bygSn",
        "outputId": "41d48932-a4c2-4ef0-d0cc-9d8a915269e2"
      },
      "execution_count": 4,
      "outputs": [
        {
          "output_type": "stream",
          "name": "stdout",
          "text": [
            "enter no 1:8\n",
            "enter no 2:12\n",
            "20\n",
            "0.6666666666666666\n"
          ]
        }
      ]
    },
    {
      "cell_type": "code",
      "source": [
        "#Q.3 Write a Python program to find the area of a triangle.\n",
        "\n",
        "# Three sides of the triangle is a, b and c:  \n",
        "a = float(input('Enter first side: '))  \n",
        "b = float(input('Enter second side: '))  \n",
        "c = float(input('Enter third side: '))  \n",
        "  \n",
        "# calculate the semi-perimeter  \n",
        "s = (a + b + c) / 2  \n",
        "  \n",
        "# calculate the area  \n",
        "area = (s*(s-a)*(s-b)*(s-c)) ** 0.5  \n",
        "print('The area of the triangle is %0.4f' %area)   "
      ],
      "metadata": {
        "colab": {
          "base_uri": "https://localhost:8080/"
        },
        "id": "OtlamV0Uy-m3",
        "outputId": "39f7e487-df62-4889-f23d-03a7ee03a7b1"
      },
      "execution_count": 5,
      "outputs": [
        {
          "output_type": "stream",
          "name": "stdout",
          "text": [
            "Enter first side: 10\n",
            "Enter second side: 15\n",
            "Enter third side: 8\n",
            "The area of the triangle is 36.9789\n"
          ]
        }
      ]
    },
    {
      "cell_type": "code",
      "source": [
        "#Q.4 Write a Python program to swap two variables.\n",
        "\n",
        "x = input('Enter value of x: ')\n",
        "y = input('Enter value of y: ')\n",
        "temp = x\n",
        "x = y\n",
        "y = temp\n",
        "\n",
        "print('The value of x after swapping: {}'.format(x))\n",
        "print('The value of y after swapping: {}'.format(y))"
      ],
      "metadata": {
        "colab": {
          "base_uri": "https://localhost:8080/"
        },
        "id": "FLjvJT2dzNSP",
        "outputId": "4479938a-cf3b-48d9-e5b9-43d0bfe35ba7"
      },
      "execution_count": 6,
      "outputs": [
        {
          "output_type": "stream",
          "name": "stdout",
          "text": [
            "Enter value of x: 999\n",
            "Enter value of y: 998\n",
            "The value of x after swapping: 998\n",
            "The value of y after swapping: 999\n"
          ]
        }
      ]
    },
    {
      "cell_type": "code",
      "source": [
        "# Q.5 Write a Python program to generate a random number.\n",
        "\n",
        "# Program to generate a random number between 0 and 1000\n",
        "\n",
        "# importing the random module\n",
        "import random\n",
        "\n",
        "print(random.randint(0,1000))"
      ],
      "metadata": {
        "colab": {
          "base_uri": "https://localhost:8080/"
        },
        "id": "H3II1ZK-zaxQ",
        "outputId": "2789e32a-205c-462c-8f11-b51f9a1b3de5"
      },
      "execution_count": 8,
      "outputs": [
        {
          "output_type": "stream",
          "name": "stdout",
          "text": [
            "384\n"
          ]
        }
      ]
    },
    {
      "cell_type": "code",
      "source": [
        "# Section B\n",
        "# Q.1 Write a Python program to convert kilometers to miles.\n",
        "\n",
        "con_ratio= 0.621371\n",
        "km=float(input(\"Enter Kilometer:\"))\n",
        "mile = km*con_ratio\n",
        "print(\"The speed value in Miles:\",mile)"
      ],
      "metadata": {
        "colab": {
          "base_uri": "https://localhost:8080/"
        },
        "id": "4kqS-Ne8z0xC",
        "outputId": "4503b731-0be7-4e80-89f8-cb4d19dab906"
      },
      "execution_count": 9,
      "outputs": [
        {
          "output_type": "stream",
          "name": "stdout",
          "text": [
            "Enter Kilometer:10\n",
            "The speed value in Miles: 6.21371\n"
          ]
        }
      ]
    },
    {
      "cell_type": "code",
      "source": [
        "# Q.2 Write a Python program to convert Celsius to Fahrenheit.\n",
        "\n",
        "celsius=int(input(\"Enter the temperature in celcius:\"))\n",
        "f=(celsius*1.8)+32\n",
        "print(\"Temperature in farenheit is:\",f)"
      ],
      "metadata": {
        "colab": {
          "base_uri": "https://localhost:8080/"
        },
        "id": "8ah4QTiF0GrH",
        "outputId": "0ecb0d29-6fa9-4442-902b-4330edd2875a"
      },
      "execution_count": 10,
      "outputs": [
        {
          "output_type": "stream",
          "name": "stdout",
          "text": [
            "Enter the temperature in celcius:38\n",
            "Temperature in farenheit is: 100.4\n"
          ]
        }
      ]
    },
    {
      "cell_type": "code",
      "source": [
        "# Q.3 Write a Python program to display calendar.\n",
        "\n",
        "import calendar\n",
        "\n",
        "# take year from user\n",
        "year = int(input(\"Enter Year: \"))\n",
        "\n",
        "# take month from user\n",
        "month = int(input(\"Enter Month: \"))\n",
        "\n",
        "# printing Calendar\n",
        "print(calendar.month(year,month))"
      ],
      "metadata": {
        "colab": {
          "base_uri": "https://localhost:8080/"
        },
        "id": "zdanS_a40YQc",
        "outputId": "74f3feb7-7802-486f-e610-476f7967ed3f"
      },
      "execution_count": 11,
      "outputs": [
        {
          "output_type": "stream",
          "name": "stdout",
          "text": [
            "Enter Year: 2003\n",
            "Enter Month: 12\n",
            "   December 2003\n",
            "Mo Tu We Th Fr Sa Su\n",
            " 1  2  3  4  5  6  7\n",
            " 8  9 10 11 12 13 14\n",
            "15 16 17 18 19 20 21\n",
            "22 23 24 25 26 27 28\n",
            "29 30 31\n",
            "\n"
          ]
        }
      ]
    },
    {
      "cell_type": "code",
      "source": [
        "# Q.4 Write a Python program to solve quadratic equation.\n",
        "\n",
        "import math \n",
        "  \n",
        "a=float(input(\"Enter the 1st Number \"))\n",
        "b=float(input(\"Enter the 2nd Number \"))\n",
        "c=float(input(\"Enter the 3rd Number \"))\n",
        "# function for finding roots\n",
        "def equationroots( a, b, c): \n",
        "  \n",
        "    # calculating discriminant using formula\n",
        "    dis = b * b - 4 * a * c \n",
        "    sqrt_val = math.sqrt(abs(dis)) \n",
        "      \n",
        "    # checking condition for discriminant\n",
        "    if dis > 0: \n",
        "        print(\" real and different roots \") \n",
        "        print((-b + sqrt_val)/(2 * a)) \n",
        "        print((-b - sqrt_val)/(2 * a)) \n",
        "      \n",
        "    elif dis == 0: \n",
        "        print(\" real and same roots\") \n",
        "        print(-b / (2 * a)) \n",
        "      \n",
        "    # when discriminant is less than 0\n",
        "    else:\n",
        "        print(\"Complex Roots\") \n",
        "        print(- b / (2 * a), \" + i\", sqrt_val) \n",
        "        print(- b / (2 * a), \" - i\", sqrt_val) \n",
        "  \n",
        "  \n",
        "# If a is 0, then incorrect equation\n",
        "if a == 0: \n",
        "        print(\"Input correct quadratic equation\") \n",
        "  \n",
        "else:\n",
        "    equationroots(a,b,c)"
      ],
      "metadata": {
        "colab": {
          "base_uri": "https://localhost:8080/"
        },
        "id": "8lxjoVmj00TV",
        "outputId": "fcef9c60-aa85-4eee-96ad-e779e518fd4e"
      },
      "execution_count": 12,
      "outputs": [
        {
          "output_type": "stream",
          "name": "stdout",
          "text": [
            "Enter the 1st Number 120\n",
            "Enter the 2nd Number 110\n",
            "Enter the 3rd Number 100\n",
            "Complex Roots\n",
            "-0.4583333333333333  + i 189.47295321496418\n",
            "-0.4583333333333333  - i 189.47295321496418\n"
          ]
        }
      ]
    },
    {
      "cell_type": "code",
      "source": [
        "# Q.5 Write a Python program to swap two variables without temp variable.\n",
        "\n",
        "x = input('Enter value of x: ')\n",
        "y = input('Enter value of y: ')\n",
        "x, y = y, x\n",
        "print(\"x =\",x)\n",
        "print(\"y =\",y)"
      ],
      "metadata": {
        "colab": {
          "base_uri": "https://localhost:8080/"
        },
        "id": "ZrOonaU61FSp",
        "outputId": "92077e33-a253-4827-b336-3a79eccad45b"
      },
      "execution_count": 13,
      "outputs": [
        {
          "output_type": "stream",
          "name": "stdout",
          "text": [
            "Enter value of x: 111\n",
            "Enter value of y: 011\n",
            "x = 011\n",
            "y = 111\n"
          ]
        }
      ]
    },
    {
      "cell_type": "code",
      "source": [
        "# Section C\n",
        "# Q.1 Write a Python Program to Check if a Number is Positive, Negative or Zero.\n",
        "\n",
        "num=float(input(\"Enter a number: \"))\n",
        "if num > 0:\n",
        "   print(\"Positive number\")\n",
        "elif num == 0:\n",
        "   print(\"Zero\")\n",
        "else:\n",
        "   print(\"Negative number\")"
      ],
      "metadata": {
        "colab": {
          "base_uri": "https://localhost:8080/"
        },
        "id": "-_RNJzvB1VMG",
        "outputId": "f7ab9658-463c-43da-c703-48cedaf59ffa"
      },
      "execution_count": 14,
      "outputs": [
        {
          "output_type": "stream",
          "name": "stdout",
          "text": [
            "Enter a number: -5\n",
            "Negative number\n"
          ]
        }
      ]
    },
    {
      "cell_type": "code",
      "source": [
        "# Q.2 Write a Python Program to Check if a Number is Odd or Even.\n",
        "\n",
        "def check(NUM):\n",
        "    if (NUM%2)==0:\n",
        "        print (\"NUMBER IS EVEN\")\n",
        "    else:\n",
        "        print(\"NUMBER IS ODD\")\n",
        "X=int(input(\"ENTER THE NUMBER  \"))\n",
        "Y= check(X)"
      ],
      "metadata": {
        "colab": {
          "base_uri": "https://localhost:8080/"
        },
        "id": "oo3FHSAq1ni4",
        "outputId": "00b42bdc-f7b2-4ecb-b285-8af17dba56c3"
      },
      "execution_count": 15,
      "outputs": [
        {
          "output_type": "stream",
          "name": "stdout",
          "text": [
            "ENTER THE NUMBER  99\n",
            "NUMBER IS ODD\n"
          ]
        }
      ]
    },
    {
      "cell_type": "code",
      "source": [
        "# Q.3 Write a Python Program to Check Leap Year.\n",
        "\n",
        "def chk_leap(num):\n",
        "    if num%4==0 and num%100!=0 or num%400==0:\n",
        "        return 'The year is leap year'\n",
        "    else:\n",
        "        return 'The year is not a leap year'\n",
        "a = chk_leap(2000)\n",
        "b = chk_leap(1972)\n",
        "print(a)\n",
        "print(b)"
      ],
      "metadata": {
        "colab": {
          "base_uri": "https://localhost:8080/"
        },
        "id": "Sd8PN7Jf4Dvv",
        "outputId": "cefb7c54-2105-48d8-d474-399df40903e6"
      },
      "execution_count": 16,
      "outputs": [
        {
          "output_type": "stream",
          "name": "stdout",
          "text": [
            "The year is leap year\n",
            "The year is leap year\n"
          ]
        }
      ]
    },
    {
      "cell_type": "code",
      "source": [
        "# Q.4 Write a Python Program to Check Prime Number.\n",
        "\n",
        "number = int(input(\"Enter any number: \"))\n",
        "if number > 1:\n",
        "    for i in range(2, number):\n",
        "        if (number % i) == 0:\n",
        "            print(number, \"is not a prime number\")\n",
        "            break\n",
        "    else:\n",
        "        print(number, \"is a prime number\")\n",
        "else:\n",
        "    print(number, \"is not a prime number\")"
      ],
      "metadata": {
        "colab": {
          "base_uri": "https://localhost:8080/"
        },
        "id": "VCk1As1Y4rc-",
        "outputId": "e22fb089-9d7d-452d-f6ec-1ee58ef0a43a"
      },
      "execution_count": 17,
      "outputs": [
        {
          "output_type": "stream",
          "name": "stdout",
          "text": [
            "Enter any number: 30\n",
            "30 is not a prime number\n"
          ]
        }
      ]
    },
    {
      "cell_type": "code",
      "source": [
        "# Q.5 Write a Python Program to Print all Prime Numbers in an Interval of 1-10000.\n",
        "# Python program to display all the prime numbers within an interval\n",
        "\n",
        "\n",
        "lower = int(input(\"Enter any number: \"))\n",
        "upper = int(input(\"Enter any number: \"))\n",
        "print(\"Prime numbers between\", lower, \"and\", upper, \"are:\")\n",
        "for num in range(lower, upper + 1):\n",
        "   # all prime numbers are greater than 1\n",
        "   if num > 1:\n",
        "       for i in range(2, num):\n",
        "           if (num % i) == 0:\n",
        "               break\n",
        "       else:\n",
        "           print(num)"
      ],
      "metadata": {
        "colab": {
          "base_uri": "https://localhost:8080/"
        },
        "id": "LXA26uvz5k6g",
        "outputId": "848b2bc2-e455-4e54-bd5c-63b888ef9130"
      },
      "execution_count": 19,
      "outputs": [
        {
          "output_type": "stream",
          "name": "stdout",
          "text": [
            "Enter any number: 100\n",
            "Enter any number: 120\n",
            "Prime numbers between 100 and 120 are:\n",
            "101\n",
            "103\n",
            "107\n",
            "109\n",
            "113\n"
          ]
        }
      ]
    },
    {
      "cell_type": "code",
      "source": [
        "# Section D \n",
        "# Q.1 Write a Python Program to Find the Factorial of a Number.\n",
        "n=int(input(\"Enter number:\"))\n",
        "fact=1\n",
        "while(n>0):\n",
        "    fact=fact*n\n",
        "    n=n-1\n",
        "print(\"Factorial of the number is: \")\n",
        "print(fact)"
      ],
      "metadata": {
        "colab": {
          "base_uri": "https://localhost:8080/"
        },
        "id": "Astsu31o5s2X",
        "outputId": "5bd960e1-aac7-4662-a873-045bff44f374"
      },
      "execution_count": 20,
      "outputs": [
        {
          "output_type": "stream",
          "name": "stdout",
          "text": [
            "Enter number:999\n",
            "Factorial of the number is: \n",
            "402387260077093773543702433923003985719374864210714632543799910429938512398629020592044208486969404800479988610197196058631666872994808558901323829669944590997424504087073759918823627727188732519779505950995276120874975462497043601418278094646496291056393887437886487337119181045825783647849977012476632889835955735432513185323958463075557409114262417474349347553428646576611667797396668820291207379143853719588249808126867838374559731746136085379534524221586593201928090878297308431392844403281231558611036976801357304216168747609675871348312025478589320767169132448426236131412508780208000261683151027341827977704784635868170164365024153691398281264810213092761244896359928705114964975419909342221566832572080821333186116811553615836546984046708975602900950537616475847728421889679646244945160765353408198901385442487984959953319101723355556602139450399736280750137837615307127761926849034352625200015888535147331611702103968175921510907788019393178114194545257223865541461062892187960223838971476088506276862967146674697562911234082439208160153780889893964518263243671616762179168909779911903754031274622289988005195444414282012187361745992642956581746628302955570299024324153181617210465832036786906117260158783520751516284225540265170483304226143974286933061690897968482590125458327168226458066526769958652682272807075781391858178889652208164348344825993266043367660176999612831860788386150279465955131156552036093988180612138558600301435694527224206344631797460594682573103790084024432438465657245014402821885252470935190620929023136493273497565513958720559654228749774011413346962715422845862377387538230483865688976461927383814900140767310446640259899490222221765904339901886018566526485061799702356193897017860040811889729918311021171229845901641921068884387121855646124960798722908519296819372388642614839657382291123125024186649353143970137428531926649875337218940694281434118520158014123344828015051399694290153483077644569099073152433278288269864602789864321139083506217095002597389863554277196742822248757586765752344220207573630569498825087968928162753848863396909959826280956121450994871701244516461260379029309120889086942028510640182154399457156805941872748998094254742173582401063677404595741785160829230135358081840096996372524230560855903700624271243416909004153690105933983835777939410970027753472000000000000000000000000000000000000000000000000000000000000000000000000000000000000000000000000000000000000000000000000000000000000000000000000000000000000000000000000000000000000000000000000000000000000000000000000000000000000000000000000000000\n"
          ]
        }
      ]
    },
    {
      "cell_type": "code",
      "source": [
        "# Q.2 Write a Python Program to Display the multiplication Table.\n",
        "\n",
        "number = int(input (\"Enter the number of which the user wants to print the multiplication table: \"))      \n",
        "# We are using \"for loop\" to iterate the multiplication 10 times       \n",
        "print (\"The Multiplication Table of: \", number)    \n",
        "for count in range(1, 11):      \n",
        "   print (number, 'x', count, '=', number * count)    "
      ],
      "metadata": {
        "colab": {
          "base_uri": "https://localhost:8080/"
        },
        "id": "WWZFq5Af66bW",
        "outputId": "ed086cf1-e61f-48cf-b157-362144d0f026"
      },
      "execution_count": 21,
      "outputs": [
        {
          "output_type": "stream",
          "name": "stdout",
          "text": [
            "Enter the number of which the user wants to print the multiplication table: 27\n",
            "The Multiplication Table of:  27\n",
            "27 x 1 = 27\n",
            "27 x 2 = 54\n",
            "27 x 3 = 81\n",
            "27 x 4 = 108\n",
            "27 x 5 = 135\n",
            "27 x 6 = 162\n",
            "27 x 7 = 189\n",
            "27 x 8 = 216\n",
            "27 x 9 = 243\n",
            "27 x 10 = 270\n"
          ]
        }
      ]
    },
    {
      "cell_type": "code",
      "source": [
        "# Q.3 Write a python Program to display the Fibonacci sequence up to n-th term.\n",
        "\n",
        "nterms = int(input(\"How many terms? \"))\n",
        "\n",
        "# first two terms\n",
        "n1, n2 = 0, 1\n",
        "count = 0\n",
        "\n",
        "# check if the number of terms is valid\n",
        "if nterms <= 0:\n",
        "   print(\"Please enter a positive integer\")\n",
        "# if there is only one term, return n1\n",
        "elif nterms == 1:\n",
        "   print(\"Fibonacci sequence upto\",nterms,\":\")\n",
        "   print(n1)\n",
        "# generate fibonacci sequence\n",
        "else:\n",
        "   print(\"Fibonacci sequence:\")\n",
        "   while count < nterms:\n",
        "       print(n1)\n",
        "       nth = n1 + n2\n",
        "       # update values\n",
        "       n1 = n2\n",
        "       n2 = nth\n",
        "       count += 1"
      ],
      "metadata": {
        "colab": {
          "base_uri": "https://localhost:8080/"
        },
        "id": "u_-PW4tO7TQI",
        "outputId": "8a8d8da7-a058-4198-c3c9-2cf5cc6ad01c"
      },
      "execution_count": 22,
      "outputs": [
        {
          "output_type": "stream",
          "name": "stdout",
          "text": [
            "How many terms? 12\n",
            "Fibonacci sequence:\n",
            "0\n",
            "1\n",
            "1\n",
            "2\n",
            "3\n",
            "5\n",
            "8\n",
            "13\n",
            "21\n",
            "34\n",
            "55\n",
            "89\n"
          ]
        }
      ]
    },
    {
      "cell_type": "code",
      "source": [
        "# Q.4 Write a Python program to check if the number is an Armstrong number or not.\n",
        "\n",
        "# take input from the user\n",
        "num = int(input(\"Enter a number: \"))\n",
        "\n",
        "# initialize sum\n",
        "sum = 0\n",
        "\n",
        "# find the sum of the cube of each digit\n",
        "temp = num\n",
        "while temp > 0:\n",
        "   digit = temp % 10\n",
        "   sum += digit ** 3\n",
        "\n",
        "   temp //= 10\n",
        "\n",
        "# display the result\n",
        "if num == sum:\n",
        "   print(num,\"is an Armstrong number\")\n",
        "else:\n",
        "   print(num,\"is not an Armstrong number\")"
      ],
      "metadata": {
        "colab": {
          "base_uri": "https://localhost:8080/"
        },
        "id": "rknYBqgn8Df9",
        "outputId": "9bf79772-8f2f-469d-a6ed-2b252b9a7993"
      },
      "execution_count": 23,
      "outputs": [
        {
          "output_type": "stream",
          "name": "stdout",
          "text": [
            "Enter a number: 13\n",
            "13 is not an Armstrong number\n"
          ]
        }
      ]
    },
    {
      "cell_type": "code",
      "source": [
        "# Q.5 Write a Python Program to Find Armstrong Number in an Interval.\n",
        "\n",
        "lower = int(input(\"Enter any number: \"))\n",
        "upper = int(input(\"Enter any number: \"))\n",
        "for num in range(lower, upper + 1):\n",
        "\n",
        "   # order of number\n",
        "   order = len(str(num))\n",
        "    \n",
        "   # initialize sum\n",
        "   sum = 0\n",
        "\n",
        "   temp = num\n",
        "   while temp > 0:\n",
        "       digit = temp % 10\n",
        "       sum += digit ** order\n",
        "       temp //= 10\n",
        "\n",
        "   if num == sum:\n",
        "       print(num)"
      ],
      "metadata": {
        "colab": {
          "base_uri": "https://localhost:8080/"
        },
        "id": "rEn2WftS8PW5",
        "outputId": "62f086e3-5185-4583-b7af-10e940acee51"
      },
      "execution_count": 24,
      "outputs": [
        {
          "name": "stdout",
          "output_type": "stream",
          "text": [
            "Enter any number: 30\n",
            "Enter any number: 31\n"
          ]
        }
      ]
    },
    {
      "cell_type": "code",
      "source": [
        "# Q.6 Write a Python Program to Find the Sum of Natural Numbers.\n",
        "\n",
        "num =int(input(\"Enter a Number:\"))\n",
        "\n",
        "if num < 0:\n",
        "   print(\"Enter a positive number\")\n",
        "else:\n",
        "   sum = 0\n",
        "   # use while loop to iterate until zero\n",
        "   while(num > 0):\n",
        "       sum += num\n",
        "       num -= 1\n",
        "   print(\"The sum is\",sum)"
      ],
      "metadata": {
        "colab": {
          "base_uri": "https://localhost:8080/"
        },
        "id": "CNuBhgfD85cH",
        "outputId": "10799642-ba78-4e27-ef65-26a7e85b640e"
      },
      "execution_count": 25,
      "outputs": [
        {
          "output_type": "stream",
          "name": "stdout",
          "text": [
            "Enter a Number:111\n",
            "The sum is 6216\n"
          ]
        }
      ]
    },
    {
      "cell_type": "code",
      "source": [
        "# Section E \n",
        "# Q.1 Write a Python Program to find sum of array.\n",
        " \n",
        " \n",
        "def _sum(arr):\n",
        " \n",
        "    # initialize a variable\n",
        "    # to store the sum\n",
        "    # while iterating through\n",
        "    # the array later\n",
        "    sum = 0\n",
        " \n",
        "    # iterate through the array\n",
        "    # and add each element to the sum variable\n",
        "    # one at a time\n",
        "    for i in arr:\n",
        "        sum = sum + i\n",
        " \n",
        "    return(sum)\n",
        " \n",
        " \n",
        "# driver function\n",
        "arr = []\n",
        "# input values to list\n",
        "arr = [40, 20, 45, 15]\n",
        " \n",
        "# calculating length of array\n",
        "n = len(arr)\n",
        " \n",
        "ans = _sum(arr)\n",
        " \n",
        "# display sum\n",
        "print('Sum of the array is ',ans)"
      ],
      "metadata": {
        "colab": {
          "base_uri": "https://localhost:8080/"
        },
        "id": "UUpaXg5G9M28",
        "outputId": "ff853b0c-1ba5-4093-bb9b-eb9e3ee72a24"
      },
      "execution_count": 27,
      "outputs": [
        {
          "output_type": "stream",
          "name": "stdout",
          "text": [
            "Sum of the array is  120\n"
          ]
        }
      ]
    },
    {
      "cell_type": "code",
      "source": [
        "# Q.2 Write a Python Program to find largest element in an array.\n",
        " \n",
        " \n",
        "def largest(arr, n):\n",
        " \n",
        "    # Initialize maximum element\n",
        "    max = arr[0]\n",
        " \n",
        "    # Traverse array elements from second\n",
        "    # and compare every element with\n",
        "    # current max\n",
        "    for i in range(1, n):\n",
        "        if arr[i] > max:\n",
        "            max = arr[i]\n",
        "    return max\n",
        " \n",
        " \n",
        "# Driver Code\n",
        "arr = [998, 999, 1002, 1, 74]\n",
        "n = len(arr)\n",
        "Ans = largest(arr, n)\n",
        "print(\"Largest in given array \",Ans)"
      ],
      "metadata": {
        "colab": {
          "base_uri": "https://localhost:8080/"
        },
        "id": "EOIb8Jzl9qU5",
        "outputId": "d682c8e2-d51a-4e50-9a05-4bb210ebdeca"
      },
      "execution_count": 28,
      "outputs": [
        {
          "output_type": "stream",
          "name": "stdout",
          "text": [
            "Largest in given array  1002\n"
          ]
        }
      ]
    },
    {
      "cell_type": "code",
      "source": [
        "# Q.3 Write a Python Program for array rotation.\n",
        "#Python program to left-rotate the given array\n",
        " \n",
        "#Function reverse the given array by swapping first and last numbers.\n",
        "def reverse(start,end,arr):\n",
        " \n",
        "    #No of iterations needed for reversing the list\n",
        "    no_of_reverse=end-start+1\n",
        " \n",
        "    #By incrementing count value swapping of first and last elements is done.\n",
        "    count=0\n",
        "    while((no_of_reverse)//2!=count):\n",
        "        arr[start+count],arr[end-count]=arr[end-count],arr[start+count]\n",
        "        count+=1\n",
        "    return arr\n",
        " \n",
        "#Function takes array, length of array and no of rotations as input\n",
        "def left_rotate_array(arr,size,d):\n",
        " \n",
        "    #Reverse the Entire List\n",
        "    start=0\n",
        "    end=size-1\n",
        "    arr=reverse(start,end,arr)\n",
        "     \n",
        "    #Divide array into twosub-array based on no of rotations.\n",
        "    #Divide First sub-array\n",
        "    #Reverse the First sub-array\n",
        "    start=0\n",
        "    end=size-d-1\n",
        "    arr=reverse(start,end,arr)\n",
        "     \n",
        "    #Divide Second sub-array\n",
        "    #Reverse the Second sub-array\n",
        "    start=size-d\n",
        "    end=size-1\n",
        "    arr=reverse(start,end,arr)\n",
        "    return arr\n",
        "     \n",
        "arr=[1,2,3,4,5,6,7,8,9,10]\n",
        "size=7\n",
        "d=1\n",
        "print('Original array:',arr)\n",
        " \n",
        "#Finding all the symmetric rotation number\n",
        "if(d<=size):\n",
        "    print('Rotated array: ',left_rotate_array(arr,size,d))\n",
        "else:\n",
        "    d=d%size\n",
        "    print('Rotated array: ',left_rotate_array(arr,size,d))\n"
      ],
      "metadata": {
        "colab": {
          "base_uri": "https://localhost:8080/"
        },
        "id": "makHvcTV-PVY",
        "outputId": "a11fcecf-b9c1-4031-b91a-5ed0964f47c3"
      },
      "execution_count": 31,
      "outputs": [
        {
          "output_type": "stream",
          "name": "stdout",
          "text": [
            "Original array: [1, 2, 3, 4, 5, 6, 7, 8, 9, 10]\n",
            "Rotated array:  [2, 3, 4, 5, 6, 7, 1, 8, 9, 10]\n"
          ]
        }
      ]
    },
    {
      "cell_type": "code",
      "source": [
        "# Q.4 Write a Python Program to Split the array and add the first part to the end.\n",
        "# Python program to split array and move first part to end.\n",
        " \n",
        "def splitArr(arr, n, k):\n",
        "    for i in range(0, k):\n",
        "        x = arr[0]\n",
        "        for j in range(0, n-1):\n",
        "            arr[j] = arr[j + 1]\n",
        "         \n",
        "        arr[n-1] = x\n",
        "         \n",
        " \n",
        "# main\n",
        "arr = [11, 12, 85, 62, 32, 39]\n",
        "n = len(arr)\n",
        "position = 3\n",
        " \n",
        "splitArr(arr, n, position)\n",
        " \n",
        "for i in range(0, n):\n",
        "    print(arr[i],end=' ')"
      ],
      "metadata": {
        "colab": {
          "base_uri": "https://localhost:8080/"
        },
        "id": "-0QwIYGF-uq8",
        "outputId": "e5fc2650-26fe-419f-83d0-db336676cbbe"
      },
      "execution_count": 32,
      "outputs": [
        {
          "output_type": "stream",
          "name": "stdout",
          "text": [
            "62 32 39 11 12 85 "
          ]
        }
      ]
    },
    {
      "cell_type": "code",
      "source": [
        "# Q.5 Write a Python Program to check if given array is Monotonic.\n",
        "# Check if given array is Monotonic\n",
        "def isMonotonic(A):\n",
        "    x, y = [], []\n",
        "    x.extend(A)\n",
        "    y.extend(A)\n",
        "    x.sort()\n",
        "    y.sort(reverse=True)\n",
        "    if(x == A or y == A):\n",
        "        return True\n",
        "    return False\n",
        " \n",
        " \n",
        "# Driver program\n",
        "A = [7, 6, 5, 5]\n",
        " \n",
        "# Print required result\n",
        "print(isMonotonic(A))"
      ],
      "metadata": {
        "colab": {
          "base_uri": "https://localhost:8080/"
        },
        "id": "JPIH6TtW_m5y",
        "outputId": "63704a34-4832-4b0c-d03d-8eb2c8d5529c"
      },
      "execution_count": 33,
      "outputs": [
        {
          "output_type": "stream",
          "name": "stdout",
          "text": [
            "True\n"
          ]
        }
      ]
    },
    {
      "cell_type": "code",
      "source": [
        "# Section F\n",
        "# Q.1 Write a Python program to find sum of elements in list.\n",
        "\n",
        "total = 0\n",
        "# creating a list\n",
        "list1 = [11, 1, 577, 12, 12]\n",
        "\n",
        "# Iterate each element in list\n",
        "# and add them in variable total\n",
        "for ele in range(0, len(list1)):\n",
        "    total = total + list1[ele]\n",
        "\n",
        "# printing total value\n",
        "print(\"Sum of all elements in given list: \",total)"
      ],
      "metadata": {
        "colab": {
          "base_uri": "https://localhost:8080/"
        },
        "id": "aZ8UD_t5_zVd",
        "outputId": "8d337ae2-f5e7-4178-c3d7-53745099411a"
      },
      "execution_count": 34,
      "outputs": [
        {
          "output_type": "stream",
          "name": "stdout",
          "text": [
            "Sum of all elements in given list:  613\n"
          ]
        }
      ]
    },
    {
      "cell_type": "code",
      "source": [
        "# Q.2 Write a Python program to Multiply all numbers in the list.\n",
        "\n",
        "import numpy\n",
        "def multiply_numbers(list):\n",
        "   return numpy.prod(list)\n",
        "given_list = [2,11,44,7,2,85,96]\n",
        "print('The list is:',given_list)\n",
        "print(\"The product is: \")\n",
        "print(multiply_numbers(given_list))"
      ],
      "metadata": {
        "colab": {
          "base_uri": "https://localhost:8080/"
        },
        "id": "AnF3l9DFAFeo",
        "outputId": "e73052db-460d-403e-88ec-629a56b73f78"
      },
      "execution_count": 35,
      "outputs": [
        {
          "output_type": "stream",
          "name": "stdout",
          "text": [
            "The list is: [2, 11, 44, 7, 2, 85, 96]\n",
            "The product is: \n",
            "110584320\n"
          ]
        }
      ]
    },
    {
      "cell_type": "code",
      "source": [
        "\n",
        "# Q.3 Write a Python program to find smallest number in a list.\n",
        "\n",
        "number=[]\n",
        "\n",
        "#asking number of elements to add in the list\n",
        "n=int(input(\"Enter the number of elements in list: \"))\n",
        "\n",
        "for i in range(1, n + 1):\n",
        "    element=int(input(\"Enter elements: \"))\n",
        "    number.append(element)\n",
        "        \n",
        "#sort the list\n",
        "number.sort()\n",
        "print(\"Smallest element is:\",number[0])"
      ],
      "metadata": {
        "colab": {
          "base_uri": "https://localhost:8080/"
        },
        "id": "9jBHbhh4AjbK",
        "outputId": "6f2e5a04-92e1-4873-e235-094dfb06954f"
      },
      "execution_count": 40,
      "outputs": [
        {
          "output_type": "stream",
          "name": "stdout",
          "text": [
            "Enter the number of elements in list: 1\n",
            "Enter elements: 12\n",
            "Smallest element is: 12\n"
          ]
        }
      ]
    },
    {
      "cell_type": "code",
      "source": [
        "# Q.4 Write a Python program to find largest number in a list.\n",
        "number=[]\n",
        "\n",
        "#asking number of elements to add in the list\n",
        "n=int(input(\"Enter the number of elements in list: \"))\n",
        "\n",
        "for i in range(1, n + 1):\n",
        "    element=int(input(\"Enter elements: \"))\n",
        "    number.append(element)\n",
        "        \n",
        "#sort the list\n",
        "number.sort()\n",
        "print(\"Largest element is:\",number[n-1])"
      ],
      "metadata": {
        "colab": {
          "base_uri": "https://localhost:8080/"
        },
        "id": "KmoFhku-B51f",
        "outputId": "36ce8a07-2290-459c-b9e5-d575832575c0"
      },
      "execution_count": 46,
      "outputs": [
        {
          "output_type": "stream",
          "name": "stdout",
          "text": [
            "Enter the number of elements in list: 11\n",
            "Enter elements: 11\n",
            "Enter elements: 22\n",
            "Enter elements: 33\n",
            "Enter elements: 44\n",
            "Enter elements: 55\n",
            "Enter elements: 66\n",
            "Enter elements: 7\n",
            "Enter elements: 88\n",
            "Enter elements: 99\n",
            "Enter elements: 110\n",
            "Enter elements: 1234567890\n",
            "Largest element is: 1234567890\n"
          ]
        }
      ]
    },
    {
      "cell_type": "code",
      "source": [
        "# Q.5 Write a Python program to find second largest number in a list.\n",
        "\n",
        "number=[]\n",
        "\n",
        "#asking number of elements to add in the list\n",
        "n=int(input(\"Enter the number of elements in list: \"))\n",
        "\n",
        "for i in range(1, n + 1):\n",
        "    element=int(input(\"Enter elements: \"))\n",
        "    number.append(element)\n",
        "        \n",
        "#sort the list\n",
        "number.sort()\n",
        "print(\"Second Largest element is:\",number[n-2])"
      ],
      "metadata": {
        "colab": {
          "base_uri": "https://localhost:8080/"
        },
        "id": "CgzN5inuDNWy",
        "outputId": "5f0bddd4-f43d-4904-bc9c-08aab484e28f"
      },
      "execution_count": 48,
      "outputs": [
        {
          "output_type": "stream",
          "name": "stdout",
          "text": [
            "Enter the number of elements in list: 1\n",
            "Enter elements: 11\n",
            "Second Largest element is: 11\n"
          ]
        }
      ]
    },
    {
      "cell_type": "code",
      "source": [
        "# Q.6 Write a Python program to find N largest elements from a list.\n",
        "# element from given list of integers\n",
        "\n",
        "# Function returns N largest elements\n",
        "def Nmaxelements(list1, N):\n",
        "    final_list = []\n",
        "\n",
        "    for i in range(0, N):\n",
        "        max1 = 0\n",
        "        \n",
        "        for j in range(len(list1)):\t\n",
        "            if list1[j] > max1:\n",
        "                max1 = list1[j];\n",
        "                \n",
        "        list1.remove(max1);\n",
        "        final_list.append(max1)\n",
        "\n",
        "    print(final_list)\n",
        "\n",
        "# Driver code\n",
        "list1 = [28, 905, 986, 89, 970, 93, 74, 31, 567]\n",
        "N = 4\n",
        "\n",
        "# Calling the function\n",
        "Nmaxelements(list1, N)"
      ],
      "metadata": {
        "colab": {
          "base_uri": "https://localhost:8080/"
        },
        "id": "dHHl0pdEDgOq",
        "outputId": "7dc7c8e2-6819-42ad-9411-259b5c32291a"
      },
      "execution_count": 49,
      "outputs": [
        {
          "output_type": "stream",
          "name": "stdout",
          "text": [
            "[986, 970, 905, 567]\n"
          ]
        }
      ]
    },
    {
      "cell_type": "code",
      "source": [
        "# Q.7 Write a Python program to print even numbers in a list.\n",
        "\n",
        "# Python program to print Even Numbers in a List\n",
        " \n",
        "# list of numbers\n",
        "list1 = [198765, 299872, 880, 87, 99, 97]\n",
        " \n",
        "# iterating each number in list\n",
        "for num in list1:\n",
        "     \n",
        "    # checking condition\n",
        "    if num % 2 == 0:\n",
        "       print(num, end = \" \")"
      ],
      "metadata": {
        "colab": {
          "base_uri": "https://localhost:8080/"
        },
        "id": "yBwUeIyWD1nq",
        "outputId": "b2d2d74c-b518-4064-a6ac-bf74fb82976d"
      },
      "execution_count": 50,
      "outputs": [
        {
          "output_type": "stream",
          "name": "stdout",
          "text": [
            "299872 880 "
          ]
        }
      ]
    },
    {
      "cell_type": "code",
      "source": [
        "# Q.8 Write a Python program to print odd numbers in a List.\n",
        "\n",
        "list1 = [198623445, 29876, 569, 45, 88, 98]\n",
        " \n",
        "# iterating each number in list\n",
        "for num in list1:\n",
        "     \n",
        "    # checking condition\n",
        "    if num % 2 == 1:\n",
        "       print(num, end = \" \")"
      ],
      "metadata": {
        "colab": {
          "base_uri": "https://localhost:8080/"
        },
        "id": "WlU-YLPhEG7K",
        "outputId": "8d71cfb6-db48-4ff3-cbea-a0dbdcc2ac71"
      },
      "execution_count": 51,
      "outputs": [
        {
          "output_type": "stream",
          "name": "stdout",
          "text": [
            "198623445 569 45 "
          ]
        }
      ]
    },
    {
      "cell_type": "code",
      "source": [
        "# Q.9 Write a Python program to Remove empty List from List.\n",
        "\n",
        "lst = [2,[],76,'SPACE',[],22,32,[],8,]\n",
        "print(\"The List :\",lst)\n",
        "removedlist = [ele for ele in lst if ele != []]\n",
        "print(\"The list after removing empty lists\")\n",
        "print(removedlist)"
      ],
      "metadata": {
        "colab": {
          "base_uri": "https://localhost:8080/"
        },
        "id": "F0EWcFa8EcAL",
        "outputId": "22b43177-a7d4-43f6-ab42-93f5a3122e3d"
      },
      "execution_count": 53,
      "outputs": [
        {
          "output_type": "stream",
          "name": "stdout",
          "text": [
            "The List : [2, [], 76, 'SPACE', [], 22, 32, [], 8]\n",
            "The list after removing empty lists\n",
            "[2, 76, 'SPACE', 22, 32, 8]\n"
          ]
        }
      ]
    },
    {
      "cell_type": "code",
      "source": [
        " # Q.10 Write a Python program to Cloning or Copying a list.\n",
        "\n",
        "n = int(input(\"Enter the length of your list : \"))\n",
        "lst = []\n",
        "\n",
        "for i in range(n):\n",
        "    lst.append(int(input()))\n",
        "print(\"The List is \",lst)\n",
        "\n",
        "print(\"The cloned/copied list :\")\n",
        "\n",
        "lstcopy = lst[:]\n",
        "print(\"Cloning By list slicing lst[:] \",lstcopy)\n",
        "#method2\n",
        "lst2 = lst.copy()\n",
        "print(\"Cloning By list copying lst.copy() \",lst2)\n",
        "\n",
        "\n",
        "#Method3\n",
        "lstcomprah = [i for i in lst]\n",
        "print(\"Cloning By list Comprahention \",lstcomprah)\n",
        "\n",
        "\n",
        "#method4\n",
        "lstappend=[]\n",
        "for i in lst : lstappend.append(i)"
      ],
      "metadata": {
        "colab": {
          "base_uri": "https://localhost:8080/"
        },
        "id": "rrQfO1xgFX_H",
        "outputId": "4c9830fd-41da-4b41-fe95-583029312180"
      },
      "execution_count": 57,
      "outputs": [
        {
          "output_type": "stream",
          "name": "stdout",
          "text": [
            "Enter the length of your list : 10\n",
            "1\n",
            "2\n",
            "3\n",
            "45\n",
            "65\n",
            "89\n",
            "786\n",
            "3454\n",
            "357\n",
            "123\n",
            "The List is  [1, 2, 3, 45, 65, 89, 786, 3454, 357, 123]\n",
            "The cloned/copied list :\n",
            "Cloning By list slicing lst[:]  [1, 2, 3, 45, 65, 89, 786, 3454, 357, 123]\n",
            "Cloning By list copying lst.copy()  [1, 2, 3, 45, 65, 89, 786, 3454, 357, 123]\n",
            "Cloning By list Comprahention  [1, 2, 3, 45, 65, 89, 786, 3454, 357, 123]\n"
          ]
        }
      ]
    },
    {
      "cell_type": "code",
      "source": [
        "# Q.11 11. Write a Python program to Count occurrences of an element in a list.\n",
        "\n",
        "n = int(input(\"Enter the lenth of your list : \"))\n",
        "lst = []\n",
        "\n",
        "for i in range(n):\n",
        "    lst.append(int(input()))\n",
        "print(\"The List is \",lst)\n",
        "ele= int(input(\"Enter the element to find its occurance : \"))\n",
        "print(ele,\"has occured {} times in the list \".format(lst.count(ele)))"
      ],
      "metadata": {
        "colab": {
          "base_uri": "https://localhost:8080/"
        },
        "id": "ZUIlXLDFFj0M",
        "outputId": "bbfb1aec-f4cf-4aac-a04e-ed73d4b082ca"
      },
      "execution_count": 58,
      "outputs": [
        {
          "output_type": "stream",
          "name": "stdout",
          "text": [
            "Enter the lenth of your list : 5\n",
            "1\n",
            "1\n",
            "1\n",
            "1\n",
            "5465565656\n",
            "The List is  [1, 1, 1, 1, 5465565656]\n",
            "Enter the element to find its occurance : 1\n",
            "1 has occured 4 times in the list \n"
          ]
        }
      ]
    },
    {
      "cell_type": "code",
      "source": [],
      "metadata": {
        "id": "vw1f4B9fF61B"
      },
      "execution_count": null,
      "outputs": []
    }
  ]
}
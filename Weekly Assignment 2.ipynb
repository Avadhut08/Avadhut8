{
  "nbformat": 4,
  "nbformat_minor": 0,
  "metadata": {
    "colab": {
      "provenance": []
    },
    "kernelspec": {
      "name": "python3",
      "display_name": "Python 3"
    },
    "language_info": {
      "name": "python"
    }
  },
  "cells": [
    {
      "cell_type": "code",
      "execution_count": 1,
      "metadata": {
        "colab": {
          "base_uri": "https://localhost:8080/"
        },
        "id": "fHA4aYsB5wOx",
        "outputId": "acba8e1d-3ed8-4888-b406-70f8eac9ab06"
      },
      "outputs": [
        {
          "output_type": "stream",
          "name": "stdout",
          "text": [
            "Enter a : 11\n",
            "Enter b : 11\n",
            "Enter c : 566\n",
            "2\n"
          ]
        }
      ],
      "source": [
        "# Section A\n",
        "# Q.1 Create a function that takes three integer arguments (a, b, c) and returns the amount of integers which are of equal value.\n",
        "\n",
        "def equal(a, b, c):     \n",
        "    if(a==b==c):\n",
        "        print(3)\n",
        "    elif(a==b or b==c or a==c):\n",
        "        print(2)\n",
        "    else:\n",
        "        print(0)\n",
        "a = int(input('Enter a : '))\n",
        "b = int(input('Enter b : '))\n",
        "c = int(input('Enter c : '))\n",
        "equal(a, b, c)"
      ]
    },
    {
      "cell_type": "code",
      "source": [
        "# Q.2 Write a function that converts a dictionary into a list of keys-values tuples.\n",
        "\n",
        "dict = { 'Webseries': 12, 'Movies': 14, 'Anime': 31 }\n",
        "\n",
        "# Converting into list of tuple\n",
        "list = list(dict.items())\n",
        "\n",
        "# Printing list of tuple\n",
        "print(list)"
      ],
      "metadata": {
        "colab": {
          "base_uri": "https://localhost:8080/"
        },
        "id": "xitUpriu6QRd",
        "outputId": "90a17b0e-937b-4df6-bc46-c002e466ff70"
      },
      "execution_count": 2,
      "outputs": [
        {
          "output_type": "stream",
          "name": "stdout",
          "text": [
            "[('Webseries', 12), ('Movies', 14), ('Anime', 31)]\n"
          ]
        }
      ]
    },
    {
      "cell_type": "code",
      "source": [
        "# Q.3 Write a function that creates a dictionary with each (key, value) pair being the (lower case, upper case) versions of a letter, respectively.\n",
        "\n",
        "def mapping(lst):\n",
        "    return {v.lower():v.upper() for v in lst}\n",
        "mapping(['s', 'b'])"
      ],
      "metadata": {
        "colab": {
          "base_uri": "https://localhost:8080/"
        },
        "id": "a-f7NUtr6tTg",
        "outputId": "b76c7c6a-f435-4875-8a8d-8ddbf91775f1"
      },
      "execution_count": 3,
      "outputs": [
        {
          "output_type": "execute_result",
          "data": {
            "text/plain": [
              "{'s': 'S', 'b': 'B'}"
            ]
          },
          "metadata": {},
          "execution_count": 3
        }
      ]
    },
    {
      "cell_type": "code",
      "source": [
        "# Q.4 Write a function, that replaces all vowels in a string with a specified vowel.\n",
        "\n",
        "def vow_replace(s,ch):\n",
        "    vowel ='AEIOUaeiuo'\n",
        "    s1 = []\n",
        "    for i in range(len(s)):\n",
        "        if s[i] in vowel:\n",
        "            s1.append(ch)\n",
        "        else:\n",
        "            s1.append(s[i])\n",
        "\n",
        "    return ''.join((s1))\n",
        "vow_replace('The Tale of the Hero','e')"
      ],
      "metadata": {
        "colab": {
          "base_uri": "https://localhost:8080/",
          "height": 35
        },
        "id": "36M51VIY7kKn",
        "outputId": "04bd5d71-7ac2-44ca-b0da-ae788efd91fc"
      },
      "execution_count": 4,
      "outputs": [
        {
          "output_type": "execute_result",
          "data": {
            "text/plain": [
              "'The Tele ef the Here'"
            ],
            "application/vnd.google.colaboratory.intrinsic+json": {
              "type": "string"
            }
          },
          "metadata": {},
          "execution_count": 4
        }
      ]
    },
    {
      "cell_type": "code",
      "source": [
        "# Q.5 Create a function that takes a string as input and capitalizes a letter if its ASCII code is even and returns its lower case version if its ASCII \n",
        "#code is odd.\n",
        "\n",
        "def ascii_capitalize(s):\n",
        "    s1 = []\n",
        "    for i in range(len(s)):\n",
        "        if ord(s[i]) % 2 == 0:\n",
        "            s1.append(s[i].upper())\n",
        "        else:\n",
        "            s1.append(s[i].lower())\n",
        "\n",
        "    return \"\".join((s1))\n",
        "ascii_capitalize('Will of fire')"
      ],
      "metadata": {
        "colab": {
          "base_uri": "https://localhost:8080/",
          "height": 35
        },
        "id": "Aqpc9AhE71b-",
        "outputId": "783e8288-3e9a-468e-8ef9-35f8edf06e71"
      },
      "execution_count": 5,
      "outputs": [
        {
          "output_type": "execute_result",
          "data": {
            "text/plain": [
              "'wiLL oF FiRe'"
            ],
            "application/vnd.google.colaboratory.intrinsic+json": {
              "type": "string"
            }
          },
          "metadata": {},
          "execution_count": 5
        }
      ]
    },
    {
      "cell_type": "code",
      "source": [
        "# Section B\n",
        "\n",
        "# Q.6 #Write a Python Program to Check if a Number is Odd or Even.\n",
        "\n",
        "def check(NUM):\n",
        "    if (NUM%2)==0:\n",
        "        print (\"NUMBER IS EVEN\")\n",
        "    else:\n",
        "        print(\"NUMBER IS ODD\")\n",
        "X=int(input(\"ENTER THE NUMBER  \"))\n",
        "Y= check(X)"
      ],
      "metadata": {
        "colab": {
          "base_uri": "https://localhost:8080/"
        },
        "id": "eJNECbFq8g62",
        "outputId": "43b530f1-e706-48c9-b941-a50278b0e94a"
      },
      "execution_count": 6,
      "outputs": [
        {
          "output_type": "stream",
          "name": "stdout",
          "text": [
            "ENTER THE NUMBER  1000\n",
            "NUMBER IS EVEN\n"
          ]
        }
      ]
    },
    {
      "cell_type": "code",
      "source": [
        "# Q.7 Write a Python Program to Check Leap Year.\n",
        "\n",
        "def chk_leap(num):\n",
        "    if num%4==0 and num%100!=0 or num%400==0:\n",
        "        return 'The year is leap year'\n",
        "    else:\n",
        "        return 'The year is not a leap year'\n",
        "a = chk_leap(2008)\n",
        "b = chk_leap(2081)\n",
        "print(a)\n",
        "print(b)"
      ],
      "metadata": {
        "colab": {
          "base_uri": "https://localhost:8080/"
        },
        "id": "WS0bXNUQ80T3",
        "outputId": "0a09c02b-b712-431d-f28c-daaef0fe76dd"
      },
      "execution_count": 8,
      "outputs": [
        {
          "output_type": "stream",
          "name": "stdout",
          "text": [
            "The year is leap year\n",
            "The year is not a leap year\n"
          ]
        }
      ]
    },
    {
      "cell_type": "code",
      "source": [
        "# Q.8 Write a Python Program to check if given array is Monotonic. Check if given array is Monotonic.\n",
        "\n",
        "def isMonotonic(A):\n",
        "    x, y = [], []\n",
        "    x.extend(A)\n",
        "    y.extend(A)\n",
        "    x.sort()\n",
        "    y.sort(reverse=True)\n",
        "    if(x == A or y == A):\n",
        "        return True\n",
        "    return False\n",
        " \n",
        " \n",
        "# Driver program\n",
        "A = [6, 5, 4, 4]\n",
        " \n",
        "# Print required result\n",
        "print(isMonotonic(A))"
      ],
      "metadata": {
        "colab": {
          "base_uri": "https://localhost:8080/"
        },
        "id": "XXXhgltx9ISi",
        "outputId": "19f914b0-3c99-4548-efcc-37c94fc5b4b0"
      },
      "execution_count": 9,
      "outputs": [
        {
          "output_type": "stream",
          "name": "stdout",
          "text": [
            "True\n"
          ]
        }
      ]
    },
    {
      "cell_type": "code",
      "source": [
        "# Q.9 #Write a Python Program to Split the array and add the first part to the end. Python program to split array and move first part to end.\n",
        " \n",
        "def splitArr(arr, n, k):\n",
        "    for i in range(0, k):\n",
        "        x = arr[0]\n",
        "        for j in range(0, n-1):\n",
        "            arr[j] = arr[j + 1]\n",
        "         \n",
        "        arr[n-1] = x\n",
        "         \n",
        " \n",
        "#main\n",
        "arr = [12, 10, 5, 6, 52, 36]\n",
        "n = len(arr)\n",
        "position = 2\n",
        " \n",
        "splitArr(arr, n, position)\n",
        " \n",
        "for i in range(0, n):\n",
        "    print(arr[i], end = ' ')"
      ],
      "metadata": {
        "colab": {
          "base_uri": "https://localhost:8080/"
        },
        "id": "B17CJGkJ9qKh",
        "outputId": "a9d6f197-0d87-425d-8e88-3e911d8cde9d"
      },
      "execution_count": 10,
      "outputs": [
        {
          "output_type": "stream",
          "name": "stdout",
          "text": [
            "5 6 52 36 12 10 "
          ]
        }
      ]
    },
    {
      "cell_type": "code",
      "source": [
        "# Q.10 Write a python program to find sum of elements in list.\n",
        "\n",
        "import numpy\n",
        "def multiply_numbers(list):\n",
        "   return numpy.prod(list)\n",
        "given_list = [2,51,-344,7,4,85,-56]\n",
        "print('The list is:',given_list)\n",
        "print(\"The product is: \")\n",
        "print(multiply_numbers(given_list))"
      ],
      "metadata": {
        "colab": {
          "base_uri": "https://localhost:8080/"
        },
        "id": "Bh1FqPxU-anh",
        "outputId": "327ea68b-aa89-47e2-8042-462861ab99c6"
      },
      "execution_count": 11,
      "outputs": [
        {
          "output_type": "stream",
          "name": "stdout",
          "text": [
            "The list is: [2, 51, -344, 7, 4, 85, -56]\n",
            "The product is: \n",
            "4676528640\n"
          ]
        }
      ]
    },
    {
      "cell_type": "code",
      "source": [
        "# Section C  \n",
        "\n",
        "#Create a function that takes an integer and returns a list from 1 to the given number, where:\n",
        "#1. If the number can be divided evenly by 4, amplify it by 10 (i.e. return 10 times the number).\n",
        "#2. If the number cannot be divided evenly by 4, simply return the number.\n",
        "\n",
        "def amplify(n):\n",
        "    return [i*10 if i % 4 == 0 else i for i in range(1,n+1)]\n",
        "amplify(4)"
      ],
      "metadata": {
        "colab": {
          "base_uri": "https://localhost:8080/"
        },
        "id": "tus1L8lr-oxc",
        "outputId": "b1b61176-0ca9-4265-9d6c-fcd5abd139af"
      },
      "execution_count": 12,
      "outputs": [
        {
          "output_type": "execute_result",
          "data": {
            "text/plain": [
              "[1, 2, 3, 40]"
            ]
          },
          "metadata": {},
          "execution_count": 12
        }
      ]
    },
    {
      "cell_type": "code",
      "source": [
        "amplify(3)\n"
      ],
      "metadata": {
        "colab": {
          "base_uri": "https://localhost:8080/"
        },
        "id": "HxVsbuEd-2QE",
        "outputId": "76c3ac0f-02c0-417c-eb3a-48fec14860fe"
      },
      "execution_count": 13,
      "outputs": [
        {
          "output_type": "execute_result",
          "data": {
            "text/plain": [
              "[1, 2, 3]"
            ]
          },
          "metadata": {},
          "execution_count": 13
        }
      ]
    },
    {
      "cell_type": "code",
      "source": [
        "amplify(10)"
      ],
      "metadata": {
        "colab": {
          "base_uri": "https://localhost:8080/"
        },
        "id": "FUkjZ_uj_AqQ",
        "outputId": "7d74d52e-43b7-4df3-946c-60e0684a5e0c"
      },
      "execution_count": 14,
      "outputs": [
        {
          "output_type": "execute_result",
          "data": {
            "text/plain": [
              "[1, 2, 3, 40, 5, 6, 7, 80, 9, 10]"
            ]
          },
          "metadata": {},
          "execution_count": 14
        }
      ]
    },
    {
      "cell_type": "code",
      "source": [
        "# Q.2 Create a function that takes a list of numbers and return the number that's unique.\n",
        "\n",
        "def unique(lst):\n",
        "    s = list(set(lst))\n",
        "    for i in s:\n",
        "        if lst.count(i) == 1:\n",
        "            return i"
      ],
      "metadata": {
        "id": "WQntXKIn_FET"
      },
      "execution_count": 23,
      "outputs": []
    },
    {
      "cell_type": "code",
      "source": [
        "# Q.3 create a Circle constructor that creates a circle with a radius provided by an argument. \n",
        "#The circles constructed must have two getters getArea() (PIr^2) and getPerimeter()\n",
        "#(2PI*r) which give both respective areas and perimeter (circumference).\n",
        "\n",
        "class Circle():\n",
        "    def __init__(self, r):\n",
        "        self.radius = r\n",
        "\n",
        "    def getArea(self):\n",
        "        return round(self.radius**2*3.14)\n",
        "    \n",
        "    def getPerimeter(self):\n",
        "        return round(2*self.radius*3.14)"
      ],
      "metadata": {
        "id": "lKP_OrH8_v8-"
      },
      "execution_count": 31,
      "outputs": []
    },
    {
      "cell_type": "code",
      "source": [
        "# Q.4 Create a function that takes a list of strings and return a list, sorted from shortest to longest.\n",
        "\n",
        "def sort_by_length(lst):\n",
        "    return sorted(lst, key = len)\n",
        "sort_by_length(['Kaushik', 'Avadhut', 'Soham'])\n"
      ],
      "metadata": {
        "colab": {
          "base_uri": "https://localhost:8080/"
        },
        "id": "ZFHkVjYCAdyD",
        "outputId": "06c1c264-2815-4883-c817-0c2396ed3178"
      },
      "execution_count": 29,
      "outputs": [
        {
          "output_type": "execute_result",
          "data": {
            "text/plain": [
              "['Soham', 'Kaushik', 'Avadhut']"
            ]
          },
          "metadata": {},
          "execution_count": 29
        }
      ]
    },
    {
      "cell_type": "code",
      "source": [
        "# Q.5 Create a function that validates whether three given integers form a Pythagorean triplet. The sum of the squares of the two smallest\n",
        "# integers must equal the square of the largest number to be validated.\n",
        "\n",
        "def is_triplet(a,b,c):\n",
        "    lst = []\n",
        "    lst.extend((a,b,c))\n",
        "    lst = sorted(lst)\n",
        "\n",
        "    if lst[0]**2 + lst[1]**2 == lst[2]**2:\n",
        "        print('Triplets')\n",
        "        return True\n",
        "    else:\n",
        "        print(\"not triplet\")\n",
        "        return False\n",
        "is_triplet(10, 12, 15)"
      ],
      "metadata": {
        "colab": {
          "base_uri": "https://localhost:8080/"
        },
        "id": "Ep0CrNKBAkJA",
        "outputId": "adf73cc9-92ca-4420-ea30-61e1a5bcd044"
      },
      "execution_count": 30,
      "outputs": [
        {
          "output_type": "stream",
          "name": "stdout",
          "text": [
            "not triplet\n"
          ]
        },
        {
          "output_type": "execute_result",
          "data": {
            "text/plain": [
              "False"
            ]
          },
          "metadata": {},
          "execution_count": 30
        }
      ]
    }
  ]
}
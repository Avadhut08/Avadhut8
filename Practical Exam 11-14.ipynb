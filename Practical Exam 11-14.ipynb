{
  "nbformat": 4,
  "nbformat_minor": 0,
  "metadata": {
    "colab": {
      "provenance": []
    },
    "kernelspec": {
      "name": "python3",
      "display_name": "Python 3"
    },
    "language_info": {
      "name": "python"
    }
  },
  "cells": [
    {
      "cell_type": "code",
      "execution_count": 10,
      "metadata": {
        "colab": {
          "base_uri": "https://localhost:8080/"
        },
        "id": "Vo62zamhCjbi",
        "outputId": "466e6254-3ff1-4398-d7c8-aa92f8d7be30"
      },
      "outputs": [
        {
          "output_type": "stream",
          "name": "stdout",
          "text": [
            "{'LETTER': 23, 'DIGITS': 3, 'LOWERCASE': 9, 'UPPERCASE': 14}\n"
          ]
        }
      ],
      "source": [
        "# Q.11 Write a function that creates a dictionary with each (key, value) pair being the (lower case, upper case) versions of a letter, respectively.\n",
        "\n",
        "str = 'ILOstMyboOKPLEaseHELPMe123@'\n",
        "cletter, cdigit, clower, cupper = 0, 0, 0 , 0\n",
        "a = {}\n",
        "for c in str:\n",
        "  if c. isalpha():\n",
        "    cletter = cletter + 1\n",
        "  if c. isdigit():\n",
        "    cdigit = cdigit + 1\n",
        "  if c. islower():\n",
        "    clower = clower + 1\n",
        "  if c. isupper():\n",
        "    cupper = cupper + 1\n",
        "a ['LETTER'] = cletter\n",
        "a ['DIGITS'] = cdigit\n",
        "a ['LOWERCASE'] = clower\n",
        "a ['UPPERCASE'] = cupper\n",
        "print (a)"
      ]
    },
    {
      "cell_type": "code",
      "source": [
        "# Q.12\tCreate a function that takes three integer arguments (a, b, c) and returns the amount of integers which are of equal value.\n",
        "\n",
        "def equal(a, b, c):     \n",
        "    if(a==b==c):\n",
        "        print(3)\n",
        "    elif(a==b or b==c or a==c):\n",
        "        print(2)\n",
        "    else:\n",
        "        print(0)\n",
        "a = int(input('Enter a : '))\n",
        "b = int(input('Enter b : '))\n",
        "c = int(input('Enter c : '))\n",
        "equal(a, b, c)"
      ],
      "metadata": {
        "colab": {
          "base_uri": "https://localhost:8080/"
        },
        "id": "ARrbT8RcX0mB",
        "outputId": "519d7720-f5ac-4ac3-f264-a8029c5e6453"
      },
      "execution_count": 18,
      "outputs": [
        {
          "output_type": "stream",
          "name": "stdout",
          "text": [
            "Enter a : 13\n",
            "Enter b : 14\n",
            "Enter c : 13\n",
            "2\n"
          ]
        }
      ]
    },
    {
      "cell_type": "code",
      "source": [
        "# Q.13\tCreate a function that takes a list of non-negative integers and strings and return a new list without the strings.\n",
        "l = [1, 2, 'a', 'b']\n",
        "\n",
        "def filter_list(l):\n",
        "    new_list = []\n",
        "    for x in l:\n",
        "        if type(x) == int:\n",
        "            new_list.append(x)\n",
        "    return new_list\n",
        "\n",
        "print(filter_list(l))\n"
      ],
      "metadata": {
        "colab": {
          "base_uri": "https://localhost:8080/"
        },
        "id": "VLlJmngmSSgm",
        "outputId": "e519cea2-31a0-40a4-f3c9-a9e53da8ca4f"
      },
      "execution_count": 17,
      "outputs": [
        {
          "output_type": "stream",
          "name": "stdout",
          "text": [
            "[1, 2]\n"
          ]
        }
      ]
    },
    {
      "cell_type": "code",
      "source": [
        "# Q.14\tWrite a function that calculates the factorial of a number recursively.\n",
        "n=int(input(\"Enter number:\"))\n",
        "fact=1\n",
        "while(n>0):\n",
        "    fact=fact*n\n",
        "    n=n-1\n",
        "print(\"Factorial of the number is: \")\n",
        "print(fact)"
      ],
      "metadata": {
        "colab": {
          "base_uri": "https://localhost:8080/"
        },
        "id": "5khukLOoTkQO",
        "outputId": "7dfeeff6-ed2d-42bd-d7c9-9e1f8e077408"
      },
      "execution_count": 16,
      "outputs": [
        {
          "output_type": "stream",
          "name": "stdout",
          "text": [
            "Enter number:69\n",
            "Factorial of the number is: \n",
            "171122452428141311372468338881272839092270544893520369393648040923257279754140647424000000000000000\n"
          ]
        }
      ]
    }
  ]
}
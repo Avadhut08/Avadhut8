{
  "nbformat": 4,
  "nbformat_minor": 0,
  "metadata": {
    "colab": {
      "provenance": []
    },
    "kernelspec": {
      "name": "python3",
      "display_name": "Python 3"
    },
    "language_info": {
      "name": "python"
    }
  },
  "cells": [
    {
      "cell_type": "markdown",
      "source": [],
      "metadata": {
        "id": "Rs2pPgEYNY9W"
      }
    },
    {
      "cell_type": "code",
      "execution_count": 25,
      "metadata": {
        "id": "nRAyezZVC_K1"
      },
      "outputs": [],
      "source": [
        "class MyClass:\n",
        "  x = 5\n",
        "  "
      ]
    },
    {
      "cell_type": "code",
      "source": [
        "class MyNewClass:\n",
        "    '''This is a docstring. I have created a new class'''\n",
        "    pass"
      ],
      "metadata": {
        "id": "SzNgf0E8DcpF"
      },
      "execution_count": 26,
      "outputs": []
    },
    {
      "cell_type": "code",
      "source": [
        "class Book:\n",
        "    def __init__(self, title, quantity, author, price):\n",
        "        self.title = title\n",
        "        self.quantity = quantity\n",
        "        self.author = author\n",
        "        self.price = price\n",
        "\n",
        "    def __repr__(self):\n",
        "        return f\"Book: {self.title}, Quantity: {self.quantity}, Author: {self.author}, Price: {self.price}\"\n",
        "\n",
        "\n",
        "book1 = Book('Spaceandrocket', 500, 'Avadhut Patil', 2000)\n",
        "book2 = Book('Just my things', 499, 'Kaushik Thale', 2220)\n",
        "book3 = Book('Surviving with enough space', 501, 'Soham Bakkar', 2100)\n",
        "book4 = Book('ASK', 1,'AVADHUT, SOHAM, KAUSHIK', 5001)\n",
        "print(book1)\n",
        "print(book2)\n",
        "print(book3)\n",
        "print(book4)"
      ],
      "metadata": {
        "colab": {
          "base_uri": "https://localhost:8080/"
        },
        "id": "5hMBvf8dDgFl",
        "outputId": "4bcd3a96-979c-4d74-c336-3dd207bc76f7"
      },
      "execution_count": 2,
      "outputs": [
        {
          "output_type": "stream",
          "name": "stdout",
          "text": [
            "Book: Spaceandrocket, Quantity: 500, Author: Avadhut Patil, Price: 2000\n",
            "Book: Just my things, Quantity: 499, Author: Kaushik Thale, Price: 2220\n",
            "Book: Surviving with enough space, Quantity: 501, Author: Soham Bakkar, Price: 2100\n",
            "Book: ASK, Quantity: 1, Author: AVADHUT, SOHAM, KAUSHIK, Price: 5001\n"
          ]
        }
      ]
    },
    {
      "cell_type": "code",
      "source": [
        "class bank:\n",
        "    def transaction(self):\n",
        "        print(\"Total transaction value: \")\n",
        "\n",
        "    def account_opening(self):\n",
        "        print(\"This will show you your deposited account:\")\n",
        "\n",
        "    def deposite(self):\n",
        "        print(\"deposited account\")\n",
        "\n",
        "    def test(self):\n",
        "        print(\"this is test from bank\")\n",
        "\n",
        "class HDFC_bank():\n",
        "    def hdfc_to_ICICI(self):\n",
        "        print(\"This is hdfc to ICICI\")\n",
        "\n",
        "    def test(self):\n",
        "        print(\"this is test from HDFC\")\n",
        "\n",
        "class iNeuron():\n",
        "    def account_status_icici(self):\n",
        "        print(\"This is iNeuron\")\n",
        "\n",
        "class ICICI(HDFC_bank, bank, iNeuron):\n",
        "    def icici(self):\n",
        "        print(\"indepedent\")\n",
        "\n",
        "\n",
        "i=ICICI()\n",
        "\n",
        "i.hdfc_to_ICICI()\n",
        "#i.transaction()\n",
        "#i.account_opening()\n",
        "#i.deposite()\n",
        "#i.icici()\n",
        "#i.test()\n",
        "#i.account_status_icici()"
      ],
      "metadata": {
        "colab": {
          "base_uri": "https://localhost:8080/"
        },
        "id": "ZdRkU5QSJL2o",
        "outputId": "ff45645b-7ea7-4123-c9a6-8ce476656847"
      },
      "execution_count": 3,
      "outputs": [
        {
          "output_type": "stream",
          "name": "stdout",
          "text": [
            "This is hdfc to ICICI\n"
          ]
        }
      ]
    },
    {
      "cell_type": "code",
      "source": [
        "#using __init__ function\n",
        "\n",
        "class Person:\n",
        "  def __init__(self, name, age):\n",
        "    self.name = name\n",
        "    self.age = age\n",
        "\n",
        "p1 = Person(\"Sohshik\", 38)\n",
        "\n",
        "print(p1.name)\n",
        "print(p1.age)"
      ],
      "metadata": {
        "colab": {
          "base_uri": "https://localhost:8080/"
        },
        "id": "Fxhubc97JTAv",
        "outputId": "4f39be4c-bee1-4ca4-fec8-3638cc5f741f"
      },
      "execution_count": 4,
      "outputs": [
        {
          "output_type": "stream",
          "name": "stdout",
          "text": [
            "Sohshik\n",
            "38\n"
          ]
        }
      ]
    },
    {
      "cell_type": "code",
      "source": [
        "#object methods\n",
        "class Person:\n",
        "  def __init__(self, name, age):\n",
        "    self.name = name\n",
        "    self.age = age\n",
        "    \n",
        "#Objects can also contain methods. Methods in objects are functions that belong to the object.\n",
        "#Let us create a method in the Person class:\n",
        "\n",
        "  def myfunc(self):\n",
        "    print(\"Hello my name is \" + self.name)\n",
        "\n",
        "p1 = Person(\"Chamya\", 69)\n",
        "p1.myfunc()"
      ],
      "metadata": {
        "colab": {
          "base_uri": "https://localhost:8080/"
        },
        "id": "XXf_uRRJJgkw",
        "outputId": "2aa0d6bc-5da3-4c6b-b8fd-39f39c38a4fc"
      },
      "execution_count": 5,
      "outputs": [
        {
          "output_type": "stream",
          "name": "stdout",
          "text": [
            "Hello my name is Chamya\n"
          ]
        }
      ]
    },
    {
      "cell_type": "code",
      "source": [
        "#The self parameter is a reference to the current instance of the class, and is used to access variables that belongs to the class.\n",
        "class Person:\n",
        "  def __init__(mysillyobject, name, surname):\n",
        "    mysillyobject.name = name\n",
        "    mysillyobject.surname = surname\n",
        "\n",
        "  def myfunc(abc):\n",
        "    print(\"Hello my name is \" + abc.name + \" and surname is \" + abc.surname )\n",
        "\n",
        "p1 = Person(\"Avadhoot\", \"Patil\")\n",
        "p1.myfunc()"
      ],
      "metadata": {
        "colab": {
          "base_uri": "https://localhost:8080/"
        },
        "id": "Hgqto9swJwPt",
        "outputId": "fada9539-2fbd-434b-a11b-932a2e21cf92"
      },
      "execution_count": 8,
      "outputs": [
        {
          "output_type": "stream",
          "name": "stdout",
          "text": [
            "Hello my name is Avadhoot and surname is Patil\n"
          ]
        }
      ]
    },
    {
      "cell_type": "code",
      "source": [
        "class Employee:\n",
        "   'Common base class for all employees'\n",
        "   empCount = 0\n",
        "\n",
        "   def __init__(self, name, salary):\n",
        "      self.name = name\n",
        "      self.salary = salary\n",
        "      Employee.empCount += 1\n",
        "   \n",
        "   def displayCount(self):\n",
        "     print( \"Total Employee %d\" % Employee.empCount)\n",
        "\n",
        "   def displayEmployee(self):\n",
        "      print (\"Name : \", self.name,  \", Salary: \", self.salary)\n",
        "\n",
        "\n",
        "emp1 = Employee(\"Kaushik\", 1)\n",
        "\n",
        "emp2 = Employee(\"Avadhut\", 2)\n",
        "\n",
        "emp3 = Employee(\"Soham\", 3*10/3-7)\n",
        "\n",
        "\n",
        "emp1.displayEmployee()\n",
        "emp2.displayEmployee()\n",
        "emp3.displayEmployee()\n",
        "print (\"Total Employee %d\" % Employee.empCount)"
      ],
      "metadata": {
        "colab": {
          "base_uri": "https://localhost:8080/"
        },
        "id": "VyfIt-y_J4Wd",
        "outputId": "e60cc8a5-66ff-48de-ec6d-71df4af885b9"
      },
      "execution_count": 10,
      "outputs": [
        {
          "output_type": "stream",
          "name": "stdout",
          "text": [
            "Name :  Kaushik , Salary:  1\n",
            "Name :  Avadhut , Salary:  2\n",
            "Name :  Soham , Salary:  3.0\n",
            "Total Employee 3\n"
          ]
        }
      ]
    },
    {
      "cell_type": "code",
      "source": [
        "class NumList:\n",
        "    def __init__(self):\n",
        "        self.__list = [] \n",
        "    \n",
        "    def add_value(self, val):\n",
        "        self.__list.append(val)\n",
        "    \n",
        "    def remove_value(self):\n",
        "        rv = self.__list[-1]\n",
        "        del self.__list[-1]\n",
        "        return rv\n",
        "    \n",
        "    def print_list(self):\n",
        "        return self.__list\n",
        "\n",
        "list01 = NumList()\n",
        "print('Initial list of values of list01:', list01.print_list())\n",
        "list01.add_value(2)\n",
        "list01.add_value(20)\n",
        "list01.add_value(44)\n",
        "list01.add_value(12)\n",
        "print('Updated list after adding values to it:', list01.print_list())\n",
        "val = list01.remove_value()\n",
        "print('Updated list after removing value %s is: ' % (val), list01.print_list())"
      ],
      "metadata": {
        "colab": {
          "base_uri": "https://localhost:8080/"
        },
        "id": "WBPPSak_LFMU",
        "outputId": "a6cf0faa-8858-4b7a-d3a2-004b8ff1ee08"
      },
      "execution_count": 11,
      "outputs": [
        {
          "output_type": "stream",
          "name": "stdout",
          "text": [
            "Initial list of values of list01: []\n",
            "Updated list after adding values to it: [2, 20, 44, 12]\n",
            "Updated list after removing value 12 is:  [2, 20, 44]\n"
          ]
        }
      ]
    },
    {
      "cell_type": "code",
      "source": [
        "list02 = NumList()\n",
        "print('Initial list of values list02:', list02.print_list())\n",
        "list02.add_value(2000)\n",
        "list02.add_value(500)\n",
        "list02.add_value(44444)\n",
        "list02.add_value(122222)\n",
        "print('Updated list after adding values to it:', list02.print_list())\n",
        "val = list02.remove_value()\n",
        "print('Updated list after removing value %s is: ' % (val), list02.print_list())"
      ],
      "metadata": {
        "colab": {
          "base_uri": "https://localhost:8080/"
        },
        "id": "GhFCmpzCLzU9",
        "outputId": "88b5a721-706b-4896-babe-6bcd07c81ed5"
      },
      "execution_count": 12,
      "outputs": [
        {
          "output_type": "stream",
          "name": "stdout",
          "text": [
            "Initial list of values list02: []\n",
            "Updated list after adding values to it: [2000, 500, 44444, 122222]\n",
            "Updated list after removing value 122222 is:  [2000, 500, 44444]\n"
          ]
        }
      ]
    },
    {
      "cell_type": "code",
      "source": [
        "# Class creation\n",
        "class Car:\n",
        "  # Initializer Method\n",
        "  def __init__(self):\n",
        "    # Instance variables\n",
        "    self.color = 'Black'\n",
        "    self.fuel_type = 'Petrol'\n",
        "  # Creating a class method\n",
        "  @classmethod\n",
        "  def details(cls, color, fuel_type):\n",
        "    print(\"This is a {} car of colour {}\".format(fuel_type, color))\n",
        "  # Creating a class method \n",
        "  @staticmethod\n",
        "  def ecofriendly(fuel_type):\n",
        "    if fuel_type.lower()=='electric':\n",
        "      print(\"This car is ecofriendly!\")\n",
        "    else:\n",
        "      print(\"This car is not ecofriendly!\")\n",
        "# Object Creation\n",
        "SUV = Car()\n",
        "SUV.details('Matte Black', 'Mustang')\n",
        "SUV.ecofriendly('Power Petrol')"
      ],
      "metadata": {
        "colab": {
          "base_uri": "https://localhost:8080/"
        },
        "id": "EqsFk6TtL4lG",
        "outputId": "193576e2-3e28-4977-840b-177f73ea79bb"
      },
      "execution_count": 13,
      "outputs": [
        {
          "output_type": "stream",
          "name": "stdout",
          "text": [
            "This is a Mustang car of colour Matte Black\n",
            "This car is not ecofriendly!\n"
          ]
        }
      ]
    },
    {
      "cell_type": "code",
      "source": [
        "# Parent Class\n",
        "class Vehicle:\n",
        "  def __init__(self):\n",
        "    self.color = 'Black'\n",
        "  def fuel_type(self):\n",
        "    print(\"This is an Electric Vehicle\")\n",
        "# Child Class\n",
        "class Bike(Vehicle):\n",
        "  def __init__(self):\n",
        "    # Inherit the initializer method of parent class\n",
        "    super().__init__()\n",
        "  \n",
        "  # Method to use the attributes of parent class\n",
        "  def details(self):\n",
        "    print(\"The color of this Bike is :\", self.color)\n",
        "# Object for child class\n",
        "Superbike = Bike()\n",
        "# Access the method of child class\n",
        "Superbike.details()"
      ],
      "metadata": {
        "colab": {
          "base_uri": "https://localhost:8080/"
        },
        "id": "4t9dFXOGL9W7",
        "outputId": "afb8021f-2759-4c96-81f5-83f0481aa89d"
      },
      "execution_count": 14,
      "outputs": [
        {
          "output_type": "stream",
          "name": "stdout",
          "text": [
            "The color of this Bike is : Black\n"
          ]
        }
      ]
    },
    {
      "cell_type": "code",
      "source": [
        "class car:\n",
        "    def __init__(self, milage, year, make, model,engineno):\n",
        "        self.milage = milage\n",
        "        self.year = year\n",
        "        self.make = make\n",
        "        self.model = model\n",
        "        self.engineno = engineno\n",
        "        "
      ],
      "metadata": {
        "id": "jyKqnaUoMci_"
      },
      "execution_count": 19,
      "outputs": []
    },
    {
      "cell_type": "code",
      "source": [
        "nano1 = car(13, 2022, \"weew\", \"sass\", 2332)\n",
        "audiq71 = car(11, 2021, \"weqq\",\"qweq\",2342342)\n",
        "nano2 = car(13, 2022, \"weew\", \"sass\", 2332)\n",
        "audiq72 = car(11, 2021, \"weqq\",\"qweq\",2342342)\n",
        "nano3 = car(13, 2022, \"weew\", \"sass\", 2332)\n",
        "audiq73 = car(11, 2021, \"weqq\",\"qweq\",2342342)\n",
        "nano4 = car(13, 2022, \"weew\", \"sass\", 2332)\n",
        "audiq74 = car(11, 2021, \"weqq\",\"qweq\",2342342)"
      ],
      "metadata": {
        "id": "yQn8gh7xMgYP"
      },
      "execution_count": 20,
      "outputs": []
    },
    {
      "cell_type": "code",
      "source": [
        "class car:\n",
        "    def __init__(a, m, y, ma, mo,en):\n",
        "        a.milage = m\n",
        "        a.year = y\n",
        "        a.make = ma\n",
        "        a.model = mo\n",
        "        a.engineno = en\n",
        "    \n",
        "    def age(self, current_year):\n",
        "        return current_year - self.year\n",
        "    \n",
        "    def milage1(self):\n",
        "        print(\"print a milage of car : \", self.milage)\n",
        "        #return self.milage\n",
        "    \n",
        "    def __str__(c):\n",
        "        return \"this is my car class I have created\"\n",
        "        "
      ],
      "metadata": {
        "id": "ouwDLwE5Myz6"
      },
      "execution_count": 22,
      "outputs": []
    }
  ]
}